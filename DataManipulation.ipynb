{
 "cells": [
  {
   "cell_type": "markdown",
   "metadata": {},
   "source": [
    "### Import Packages"
   ]
  },
  {
   "cell_type": "code",
   "execution_count": 7,
   "metadata": {},
   "outputs": [],
   "source": [
    "import numpy as np\n",
    "import pandas as pd\n",
    "import seaborn as sns\n",
    "from scipy.stats import pearsonr, dirichlet"
   ]
  },
  {
   "cell_type": "markdown",
   "metadata": {},
   "source": [
    "### Load in Data"
   ]
  },
  {
   "cell_type": "code",
   "execution_count": 12,
   "metadata": {},
   "outputs": [
    {
     "data": {
      "text/html": [
       "<div>\n",
       "<style scoped>\n",
       "    .dataframe tbody tr th:only-of-type {\n",
       "        vertical-align: middle;\n",
       "    }\n",
       "\n",
       "    .dataframe tbody tr th {\n",
       "        vertical-align: top;\n",
       "    }\n",
       "\n",
       "    .dataframe thead th {\n",
       "        text-align: right;\n",
       "    }\n",
       "</style>\n",
       "<table border=\"1\" class=\"dataframe\">\n",
       "  <thead>\n",
       "    <tr style=\"text-align: right;\">\n",
       "      <th></th>\n",
       "      <th>PITCH_TYPE</th>\n",
       "      <th>PITCH_NAME</th>\n",
       "      <th>PLAYER_NAME</th>\n",
       "      <th>BATTER_ID</th>\n",
       "      <th>PITCHER_ID</th>\n",
       "      <th>BAT_SIDE</th>\n",
       "      <th>THROW_SIDE</th>\n",
       "      <th>GAME_PK</th>\n",
       "      <th>GAME_YEAR</th>\n",
       "      <th>GAME_DATE</th>\n",
       "      <th>...</th>\n",
       "      <th>HOME_SCORE</th>\n",
       "      <th>AWAY_SCORE</th>\n",
       "      <th>BAT_SCORE</th>\n",
       "      <th>FLD_SCORE</th>\n",
       "      <th>POST_AWAY_SCORE</th>\n",
       "      <th>POST_HOME_SCORE</th>\n",
       "      <th>POST_BAT_SCORE</th>\n",
       "      <th>POST_FLD_SCORE</th>\n",
       "      <th>DELTA_HOME_WIN_EXP</th>\n",
       "      <th>DELTA_RUN_EXP</th>\n",
       "    </tr>\n",
       "  </thead>\n",
       "  <tbody>\n",
       "    <tr>\n",
       "      <th>0</th>\n",
       "      <td>FF</td>\n",
       "      <td>4-Seam Fastball</td>\n",
       "      <td>Betts, Mookie</td>\n",
       "      <td>605141</td>\n",
       "      <td>608566</td>\n",
       "      <td>R</td>\n",
       "      <td>R</td>\n",
       "      <td>634615</td>\n",
       "      <td>2021</td>\n",
       "      <td>2021-04-01</td>\n",
       "      <td>...</td>\n",
       "      <td>0</td>\n",
       "      <td>0</td>\n",
       "      <td>0</td>\n",
       "      <td>0</td>\n",
       "      <td>0</td>\n",
       "      <td>0</td>\n",
       "      <td>0</td>\n",
       "      <td>0</td>\n",
       "      <td>0.0</td>\n",
       "      <td>0.038</td>\n",
       "    </tr>\n",
       "    <tr>\n",
       "      <th>1</th>\n",
       "      <td>FF</td>\n",
       "      <td>4-Seam Fastball</td>\n",
       "      <td>Betts, Mookie</td>\n",
       "      <td>605141</td>\n",
       "      <td>608566</td>\n",
       "      <td>R</td>\n",
       "      <td>R</td>\n",
       "      <td>634615</td>\n",
       "      <td>2021</td>\n",
       "      <td>2021-04-01</td>\n",
       "      <td>...</td>\n",
       "      <td>0</td>\n",
       "      <td>0</td>\n",
       "      <td>0</td>\n",
       "      <td>0</td>\n",
       "      <td>0</td>\n",
       "      <td>0</td>\n",
       "      <td>0</td>\n",
       "      <td>0</td>\n",
       "      <td>0.0</td>\n",
       "      <td>-0.049</td>\n",
       "    </tr>\n",
       "    <tr>\n",
       "      <th>2</th>\n",
       "      <td>FF</td>\n",
       "      <td>4-Seam Fastball</td>\n",
       "      <td>Betts, Mookie</td>\n",
       "      <td>605141</td>\n",
       "      <td>608566</td>\n",
       "      <td>R</td>\n",
       "      <td>R</td>\n",
       "      <td>634615</td>\n",
       "      <td>2021</td>\n",
       "      <td>2021-04-01</td>\n",
       "      <td>...</td>\n",
       "      <td>0</td>\n",
       "      <td>0</td>\n",
       "      <td>0</td>\n",
       "      <td>0</td>\n",
       "      <td>0</td>\n",
       "      <td>0</td>\n",
       "      <td>0</td>\n",
       "      <td>0</td>\n",
       "      <td>0.0</td>\n",
       "      <td>0.052</td>\n",
       "    </tr>\n",
       "    <tr>\n",
       "      <th>3</th>\n",
       "      <td>FF</td>\n",
       "      <td>4-Seam Fastball</td>\n",
       "      <td>Betts, Mookie</td>\n",
       "      <td>605141</td>\n",
       "      <td>608566</td>\n",
       "      <td>R</td>\n",
       "      <td>R</td>\n",
       "      <td>634615</td>\n",
       "      <td>2021</td>\n",
       "      <td>2021-04-01</td>\n",
       "      <td>...</td>\n",
       "      <td>0</td>\n",
       "      <td>0</td>\n",
       "      <td>0</td>\n",
       "      <td>0</td>\n",
       "      <td>0</td>\n",
       "      <td>0</td>\n",
       "      <td>0</td>\n",
       "      <td>0</td>\n",
       "      <td>0.0</td>\n",
       "      <td>0.113</td>\n",
       "    </tr>\n",
       "    <tr>\n",
       "      <th>4</th>\n",
       "      <td>FF</td>\n",
       "      <td>4-Seam Fastball</td>\n",
       "      <td>Betts, Mookie</td>\n",
       "      <td>605141</td>\n",
       "      <td>608566</td>\n",
       "      <td>R</td>\n",
       "      <td>R</td>\n",
       "      <td>634615</td>\n",
       "      <td>2021</td>\n",
       "      <td>2021-04-01</td>\n",
       "      <td>...</td>\n",
       "      <td>0</td>\n",
       "      <td>0</td>\n",
       "      <td>0</td>\n",
       "      <td>0</td>\n",
       "      <td>0</td>\n",
       "      <td>0</td>\n",
       "      <td>0</td>\n",
       "      <td>0</td>\n",
       "      <td>0.0</td>\n",
       "      <td>-0.077</td>\n",
       "    </tr>\n",
       "  </tbody>\n",
       "</table>\n",
       "<p>5 rows × 56 columns</p>\n",
       "</div>"
      ],
      "text/plain": [
       "  PITCH_TYPE       PITCH_NAME    PLAYER_NAME  BATTER_ID  PITCHER_ID BAT_SIDE  \\\n",
       "0         FF  4-Seam Fastball  Betts, Mookie     605141      608566        R   \n",
       "1         FF  4-Seam Fastball  Betts, Mookie     605141      608566        R   \n",
       "2         FF  4-Seam Fastball  Betts, Mookie     605141      608566        R   \n",
       "3         FF  4-Seam Fastball  Betts, Mookie     605141      608566        R   \n",
       "4         FF  4-Seam Fastball  Betts, Mookie     605141      608566        R   \n",
       "\n",
       "  THROW_SIDE  GAME_PK  GAME_YEAR   GAME_DATE  ... HOME_SCORE AWAY_SCORE  \\\n",
       "0          R   634615       2021  2021-04-01  ...          0          0   \n",
       "1          R   634615       2021  2021-04-01  ...          0          0   \n",
       "2          R   634615       2021  2021-04-01  ...          0          0   \n",
       "3          R   634615       2021  2021-04-01  ...          0          0   \n",
       "4          R   634615       2021  2021-04-01  ...          0          0   \n",
       "\n",
       "   BAT_SCORE FLD_SCORE  POST_AWAY_SCORE  POST_HOME_SCORE  POST_BAT_SCORE  \\\n",
       "0          0         0                0                0               0   \n",
       "1          0         0                0                0               0   \n",
       "2          0         0                0                0               0   \n",
       "3          0         0                0                0               0   \n",
       "4          0         0                0                0               0   \n",
       "\n",
       "   POST_FLD_SCORE  DELTA_HOME_WIN_EXP  DELTA_RUN_EXP  \n",
       "0               0                 0.0          0.038  \n",
       "1               0                 0.0         -0.049  \n",
       "2               0                 0.0          0.052  \n",
       "3               0                 0.0          0.113  \n",
       "4               0                 0.0         -0.077  \n",
       "\n",
       "[5 rows x 56 columns]"
      ]
     },
     "execution_count": 12,
     "metadata": {},
     "output_type": "execute_result"
    }
   ],
   "source": [
    "data = pd.read_csv(\"Data/data.csv\")\n",
    "data.head()"
   ]
  },
  {
   "cell_type": "markdown",
   "metadata": {},
   "source": [
    "### Data Cleaning"
   ]
  },
  {
   "cell_type": "code",
   "execution_count": 13,
   "metadata": {},
   "outputs": [],
   "source": [
    "# Drop rows where PITCH_TYPE is Other, Pitch Out, or NA\n",
    "# Other - Typically fastballs, but can't be 100% sure without pitch metric data\n",
    "# Pitch Out - Insignificant amount of data. Not relevant for a hitter's pitch mix\n",
    "# NAs - Don't know anything about the pitch if it is a NA, so we can't broadly classify it\n",
    "data = data[(~data['PITCH_TYPE'].isin(['FA', 'PO'])) & (data['PITCH_TYPE'].notna()) & (data['BALLS'] != 4) & (data['STRIKES'] != 3)]"
   ]
  },
  {
   "cell_type": "code",
   "execution_count": 14,
   "metadata": {},
   "outputs": [],
   "source": [
    "pitch_type_to_class_map = {\n",
    "    'CH': 'OS',\n",
    "    'CS': 'BB', \n",
    "    'CU': 'BB', \n",
    "    'EP': 'OS',\n",
    "    'FC': 'FB',\n",
    "    'FF': 'FB',\n",
    "    'FO': 'OS',\n",
    "    'FS': 'OS',\n",
    "    'KC': 'BB',\n",
    "    'KN': 'OS',\n",
    "    'SC': 'BB',\n",
    "    'SI': 'FB',\n",
    "    'SL': 'BB',\n",
    "    'ST': 'BB',\n",
    "    'SV': 'BB'\n",
    "}\n",
    "\n",
    "pitch_name_to_class_map = {\n",
    "    '4-Seam Fastball': 'Fastball', \n",
    "    'Slider': 'Breaking Ball', \n",
    "    'Sinker': 'Fastball', \n",
    "    'Knuckle Curve': 'Breaking Ball',\n",
    "    'Curveball': 'Breaking Ball', \n",
    "    'Changeup': 'Off-speed',\n",
    "    'Cutter': 'Fastball', \n",
    "    'Sweeper': 'Breaking Ball', \n",
    "    'Split-Finger': 'Off-speed',\n",
    "    'Slurve': 'Breaking Ball', \n",
    "    'Slow Curve': 'Breaking Ball', \n",
    "    'Eephus': 'Off-speed',\n",
    "    'Knuckleball': 'Off-speed',\n",
    "    'Forkball': 'Off-speed', \n",
    "    'Screwball': 'Breaking Ball'\n",
    "}"
   ]
  },
  {
   "cell_type": "code",
   "execution_count": 15,
   "metadata": {},
   "outputs": [],
   "source": [
    "data['PITCH_CLASS'] = data[['PITCH_TYPE']].replace(pitch_type_to_class_map)\n",
    "data['PITCH_CLASS_NAME'] = data[['PITCH_NAME']].replace(pitch_name_to_class_map)"
   ]
  },
  {
   "cell_type": "code",
   "execution_count": 17,
   "metadata": {},
   "outputs": [],
   "source": [
    "data_subset = data[['PITCH_CLASS', 'PITCH_CLASS_NAME', 'PITCH_TYPE', 'PITCH_NAME', 'PLAYER_NAME', 'BATTER_ID', 'BAT_SIDE', 'THROW_SIDE', 'GAME_YEAR', 'BALLS', 'STRIKES', 'PLATE_X', 'PLATE_Z', 'SZ_TOP', 'SZ_BOT']]\n",
    "data_subset.to_csv(\"Data/full_training_data.csv\", index=False)"
   ]
  },
  {
   "cell_type": "markdown",
   "metadata": {},
   "source": [
    "### Get Batter Pitch Mix for Each Year"
   ]
  },
  {
   "cell_type": "code",
   "execution_count": 7,
   "metadata": {},
   "outputs": [
    {
     "data": {
      "text/html": [
       "<div>\n",
       "<style scoped>\n",
       "    .dataframe tbody tr th:only-of-type {\n",
       "        vertical-align: middle;\n",
       "    }\n",
       "\n",
       "    .dataframe tbody tr th {\n",
       "        vertical-align: top;\n",
       "    }\n",
       "\n",
       "    .dataframe thead th {\n",
       "        text-align: right;\n",
       "    }\n",
       "</style>\n",
       "<table border=\"1\" class=\"dataframe\">\n",
       "  <thead>\n",
       "    <tr style=\"text-align: right;\">\n",
       "      <th></th>\n",
       "      <th>PITCH_CLASS</th>\n",
       "      <th>PITCH_CLASS_NAME</th>\n",
       "      <th>BATTER_ID</th>\n",
       "      <th>GAME_YEAR</th>\n",
       "      <th>PCT_PITCH_CLASS_SEEN</th>\n",
       "    </tr>\n",
       "  </thead>\n",
       "  <tbody>\n",
       "    <tr>\n",
       "      <th>0</th>\n",
       "      <td>BB</td>\n",
       "      <td>Breaking Ball</td>\n",
       "      <td>444482</td>\n",
       "      <td>2021</td>\n",
       "      <td>0.269156</td>\n",
       "    </tr>\n",
       "    <tr>\n",
       "      <th>1</th>\n",
       "      <td>BB</td>\n",
       "      <td>Breaking Ball</td>\n",
       "      <td>444482</td>\n",
       "      <td>2022</td>\n",
       "      <td>0.279781</td>\n",
       "    </tr>\n",
       "    <tr>\n",
       "      <th>2</th>\n",
       "      <td>BB</td>\n",
       "      <td>Breaking Ball</td>\n",
       "      <td>444482</td>\n",
       "      <td>2023</td>\n",
       "      <td>0.267016</td>\n",
       "    </tr>\n",
       "    <tr>\n",
       "      <th>3</th>\n",
       "      <td>BB</td>\n",
       "      <td>Breaking Ball</td>\n",
       "      <td>453568</td>\n",
       "      <td>2021</td>\n",
       "      <td>0.233287</td>\n",
       "    </tr>\n",
       "    <tr>\n",
       "      <th>4</th>\n",
       "      <td>BB</td>\n",
       "      <td>Breaking Ball</td>\n",
       "      <td>453568</td>\n",
       "      <td>2022</td>\n",
       "      <td>0.241595</td>\n",
       "    </tr>\n",
       "  </tbody>\n",
       "</table>\n",
       "</div>"
      ],
      "text/plain": [
       "  PITCH_CLASS PITCH_CLASS_NAME  BATTER_ID  GAME_YEAR  PCT_PITCH_CLASS_SEEN\n",
       "0          BB    Breaking Ball     444482       2021              0.269156\n",
       "1          BB    Breaking Ball     444482       2022              0.279781\n",
       "2          BB    Breaking Ball     444482       2023              0.267016\n",
       "3          BB    Breaking Ball     453568       2021              0.233287\n",
       "4          BB    Breaking Ball     453568       2022              0.241595"
      ]
     },
     "execution_count": 7,
     "metadata": {},
     "output_type": "execute_result"
    }
   ],
   "source": [
    "total_pitches_per_batter_year = data_subset.groupby([\"GAME_YEAR\", \"BATTER_ID\"]).size()\n",
    "count_pitch_class_per_batter_year = data_subset.groupby(['PITCH_CLASS', 'PITCH_CLASS_NAME', 'BATTER_ID', 'GAME_YEAR']).size().reset_index(name='count')\n",
    "count_pitch_class_per_batter_year['total_count'] = count_pitch_class_per_batter_year.set_index(['GAME_YEAR', 'BATTER_ID']).index.map(total_pitches_per_batter_year)\n",
    "count_pitch_class_per_batter_year['PCT_PITCH_CLASS_SEEN'] = count_pitch_class_per_batter_year['count'] / count_pitch_class_per_batter_year['total_count']\n",
    "count_pitch_class_per_batter_year = count_pitch_class_per_batter_year.drop(columns=['count', 'total_count'])\n",
    "count_pitch_class_per_batter_year.head()"
   ]
  },
  {
   "cell_type": "code",
   "execution_count": 8,
   "metadata": {},
   "outputs": [
    {
     "data": {
      "text/html": [
       "<div>\n",
       "<style scoped>\n",
       "    .dataframe tbody tr th:only-of-type {\n",
       "        vertical-align: middle;\n",
       "    }\n",
       "\n",
       "    .dataframe tbody tr th {\n",
       "        vertical-align: top;\n",
       "    }\n",
       "\n",
       "    .dataframe thead th {\n",
       "        text-align: right;\n",
       "    }\n",
       "</style>\n",
       "<table border=\"1\" class=\"dataframe\">\n",
       "  <thead>\n",
       "    <tr style=\"text-align: right;\">\n",
       "      <th>GAME_YEAR</th>\n",
       "      <th>PITCH_CLASS</th>\n",
       "      <th>PITCH_CLASS_NAME</th>\n",
       "      <th>BATTER_ID</th>\n",
       "      <th>2021</th>\n",
       "      <th>2022</th>\n",
       "      <th>2023</th>\n",
       "    </tr>\n",
       "  </thead>\n",
       "  <tbody>\n",
       "    <tr>\n",
       "      <th>0</th>\n",
       "      <td>BB</td>\n",
       "      <td>Breaking Ball</td>\n",
       "      <td>444482</td>\n",
       "      <td>0.269156</td>\n",
       "      <td>0.279781</td>\n",
       "      <td>0.267016</td>\n",
       "    </tr>\n",
       "    <tr>\n",
       "      <th>1</th>\n",
       "      <td>BB</td>\n",
       "      <td>Breaking Ball</td>\n",
       "      <td>453568</td>\n",
       "      <td>0.233287</td>\n",
       "      <td>0.241595</td>\n",
       "      <td>0.237310</td>\n",
       "    </tr>\n",
       "    <tr>\n",
       "      <th>2</th>\n",
       "      <td>BB</td>\n",
       "      <td>Breaking Ball</td>\n",
       "      <td>456781</td>\n",
       "      <td>0.309036</td>\n",
       "      <td>0.338448</td>\n",
       "      <td>0.309457</td>\n",
       "    </tr>\n",
       "    <tr>\n",
       "      <th>3</th>\n",
       "      <td>BB</td>\n",
       "      <td>Breaking Ball</td>\n",
       "      <td>457705</td>\n",
       "      <td>0.344887</td>\n",
       "      <td>0.319203</td>\n",
       "      <td>0.322372</td>\n",
       "    </tr>\n",
       "    <tr>\n",
       "      <th>4</th>\n",
       "      <td>BB</td>\n",
       "      <td>Breaking Ball</td>\n",
       "      <td>457759</td>\n",
       "      <td>0.317647</td>\n",
       "      <td>0.270901</td>\n",
       "      <td>0.288764</td>\n",
       "    </tr>\n",
       "    <tr>\n",
       "      <th>...</th>\n",
       "      <td>...</td>\n",
       "      <td>...</td>\n",
       "      <td>...</td>\n",
       "      <td>...</td>\n",
       "      <td>...</td>\n",
       "      <td>...</td>\n",
       "    </tr>\n",
       "    <tr>\n",
       "      <th>937</th>\n",
       "      <td>OS</td>\n",
       "      <td>Off-speed</td>\n",
       "      <td>691718</td>\n",
       "      <td>NaN</td>\n",
       "      <td>NaN</td>\n",
       "      <td>0.054795</td>\n",
       "    </tr>\n",
       "    <tr>\n",
       "      <th>938</th>\n",
       "      <td>OS</td>\n",
       "      <td>Off-speed</td>\n",
       "      <td>693304</td>\n",
       "      <td>NaN</td>\n",
       "      <td>NaN</td>\n",
       "      <td>0.124498</td>\n",
       "    </tr>\n",
       "    <tr>\n",
       "      <th>939</th>\n",
       "      <td>OS</td>\n",
       "      <td>Off-speed</td>\n",
       "      <td>694384</td>\n",
       "      <td>NaN</td>\n",
       "      <td>NaN</td>\n",
       "      <td>0.152830</td>\n",
       "    </tr>\n",
       "    <tr>\n",
       "      <th>940</th>\n",
       "      <td>OS</td>\n",
       "      <td>Off-speed</td>\n",
       "      <td>696285</td>\n",
       "      <td>NaN</td>\n",
       "      <td>NaN</td>\n",
       "      <td>0.079399</td>\n",
       "    </tr>\n",
       "    <tr>\n",
       "      <th>941</th>\n",
       "      <td>OS</td>\n",
       "      <td>Off-speed</td>\n",
       "      <td>807799</td>\n",
       "      <td>NaN</td>\n",
       "      <td>NaN</td>\n",
       "      <td>0.157462</td>\n",
       "    </tr>\n",
       "  </tbody>\n",
       "</table>\n",
       "<p>942 rows × 6 columns</p>\n",
       "</div>"
      ],
      "text/plain": [
       "GAME_YEAR PITCH_CLASS PITCH_CLASS_NAME  BATTER_ID      2021      2022  \\\n",
       "0                  BB    Breaking Ball     444482  0.269156  0.279781   \n",
       "1                  BB    Breaking Ball     453568  0.233287  0.241595   \n",
       "2                  BB    Breaking Ball     456781  0.309036  0.338448   \n",
       "3                  BB    Breaking Ball     457705  0.344887  0.319203   \n",
       "4                  BB    Breaking Ball     457759  0.317647  0.270901   \n",
       "..                ...              ...        ...       ...       ...   \n",
       "937                OS        Off-speed     691718       NaN       NaN   \n",
       "938                OS        Off-speed     693304       NaN       NaN   \n",
       "939                OS        Off-speed     694384       NaN       NaN   \n",
       "940                OS        Off-speed     696285       NaN       NaN   \n",
       "941                OS        Off-speed     807799       NaN       NaN   \n",
       "\n",
       "GAME_YEAR      2023  \n",
       "0          0.267016  \n",
       "1          0.237310  \n",
       "2          0.309457  \n",
       "3          0.322372  \n",
       "4          0.288764  \n",
       "..              ...  \n",
       "937        0.054795  \n",
       "938        0.124498  \n",
       "939        0.152830  \n",
       "940        0.079399  \n",
       "941        0.157462  \n",
       "\n",
       "[942 rows x 6 columns]"
      ]
     },
     "execution_count": 8,
     "metadata": {},
     "output_type": "execute_result"
    }
   ],
   "source": [
    "pitch_mix_pivoted = count_pitch_class_per_batter_year.pivot(index=['PITCH_CLASS', 'PITCH_CLASS_NAME', 'BATTER_ID'], \n",
    "                                          columns='GAME_YEAR', \n",
    "                                          values='PCT_PITCH_CLASS_SEEN').reset_index()\n",
    "pitch_mix_pivoted"
   ]
  },
  {
   "cell_type": "markdown",
   "metadata": {},
   "source": [
    "### Scatterplots by Pitch Class"
   ]
  },
  {
   "cell_type": "code",
   "execution_count": 9,
   "metadata": {},
   "outputs": [
    {
     "data": {
      "text/plain": [
       "<seaborn.axisgrid.FacetGrid at 0x12b6d5310>"
      ]
     },
     "execution_count": 9,
     "metadata": {},
     "output_type": "execute_result"
    },
    {
     "data": {
      "image/png": "[encoded data removed]",
      "text/plain": [
       "<Figure size 900x300 with 3 Axes>"
      ]
     },
     "metadata": {},
     "output_type": "display_data"
    }
   ],
   "source": [
    "g = sns.FacetGrid(pitch_mix_pivoted.dropna(subset=[2021, 2022]), sharex=False, sharey=False, col=\"PITCH_CLASS_NAME\", col_wrap=3)\n",
    "g.map(sns.scatterplot, 2021, 2022)"
   ]
  },
  {
   "cell_type": "code",
   "execution_count": 10,
   "metadata": {},
   "outputs": [
    {
     "data": {
      "text/plain": [
       "<seaborn.axisgrid.FacetGrid at 0x12b5c34d0>"
      ]
     },
     "execution_count": 10,
     "metadata": {},
     "output_type": "execute_result"
    },
    {
     "data": {
      "image/png": "[encoded data removed]",
      "text/plain": [
       "<Figure size 900x300 with 3 Axes>"
      ]
     },
     "metadata": {},
     "output_type": "display_data"
    }
   ],
   "source": [
    "g = sns.FacetGrid(pitch_mix_pivoted.dropna(subset=[2022, 2023]), sharex=False, sharey=False, col=\"PITCH_CLASS_NAME\", col_wrap=3)\n",
    "g.map(sns.scatterplot, 2022, 2023)"
   ]
  },
  {
   "cell_type": "markdown",
   "metadata": {},
   "source": [
    "### Correlation Across Years"
   ]
  },
  {
   "cell_type": "code",
   "execution_count": 11,
   "metadata": {},
   "outputs": [
    {
     "data": {
      "text/plain": [
       "PITCH_CLASS_NAME\n",
       "Breaking Ball    (0.5789418887757181, 9.987694230132565e-21)\n",
       "Fastball         (0.5568902800026445, 5.425072650917765e-19)\n",
       "Off-speed        (0.7168742536875149, 4.709885104543771e-35)\n",
       "dtype: object"
      ]
     },
     "execution_count": 11,
     "metadata": {},
     "output_type": "execute_result"
    }
   ],
   "source": [
    "pitch_mix_pivoted.dropna(subset=[2021, 2022]).groupby(\"PITCH_CLASS_NAME\").apply(lambda grp: pearsonr(grp[2021], grp[2022]), include_groups=False)"
   ]
  },
  {
   "cell_type": "code",
   "execution_count": 12,
   "metadata": {},
   "outputs": [
    {
     "data": {
      "text/plain": [
       "PITCH_CLASS_NAME\n",
       "Breaking Ball     (0.7023080644454134, 7.53056149411023e-41)\n",
       "Fastball         (0.6550753846804735, 5.442890954544187e-34)\n",
       "Off-speed        (0.7298781689529442, 2.376907346002093e-45)\n",
       "dtype: object"
      ]
     },
     "execution_count": 12,
     "metadata": {},
     "output_type": "execute_result"
    }
   ],
   "source": [
    "pitch_mix_pivoted.dropna(subset=[2022, 2023]).groupby(\"PITCH_CLASS_NAME\").apply(lambda grp: pearsonr(grp[2022], grp[2023]), include_groups=False)"
   ]
  },
  {
   "cell_type": "code",
   "execution_count": 13,
   "metadata": {},
   "outputs": [
    {
     "data": {
      "text/plain": [
       "PITCH_CLASS_NAME\n",
       "Breaking Ball     (0.5904789093962814, 7.082924805026147e-22)\n",
       "Fastball          (0.5901078875157025, 7.620982756394241e-22)\n",
       "Off-speed        (0.6951021686400481, 1.1917906665158283e-32)\n",
       "dtype: object"
      ]
     },
     "execution_count": 13,
     "metadata": {},
     "output_type": "execute_result"
    }
   ],
   "source": [
    "pitch_mix_pivoted.dropna(subset=[2021, 2023]).groupby(\"PITCH_CLASS_NAME\").apply(lambda grp: pearsonr(grp[2021], grp[2023]), include_groups=False)"
   ]
  },
  {
   "cell_type": "markdown",
   "metadata": {},
   "source": [
    "### Summary"
   ]
  },
  {
   "cell_type": "markdown",
   "metadata": {},
   "source": [
    "Looking broadly at each batter in the dataset, we can see that there is a year to year correlation between a batter's pitch mix. Taking 2023 as our target year, we see that the correlation coefficient for 2022 is stronger than 2021, indicating that recent years may more predictive power than years further in the past."
   ]
  },
  {
   "cell_type": "code",
   "execution_count": 18,
   "metadata": {},
   "outputs": [],
   "source": [
    "data = pd.read_csv(\"Data/full_training_data.csv\")"
   ]
  },
  {
   "cell_type": "code",
   "execution_count": 19,
   "metadata": {},
   "outputs": [
    {
     "data": {
      "text/html": [
       "<div>\n",
       "<style scoped>\n",
       "    .dataframe tbody tr th:only-of-type {\n",
       "        vertical-align: middle;\n",
       "    }\n",
       "\n",
       "    .dataframe tbody tr th {\n",
       "        vertical-align: top;\n",
       "    }\n",
       "\n",
       "    .dataframe thead th {\n",
       "        text-align: right;\n",
       "    }\n",
       "</style>\n",
       "<table border=\"1\" class=\"dataframe\">\n",
       "  <thead>\n",
       "    <tr style=\"text-align: right;\">\n",
       "      <th></th>\n",
       "      <th>PITCH_CLASS</th>\n",
       "      <th>PITCH_CLASS_NAME</th>\n",
       "      <th>PITCH_TYPE</th>\n",
       "      <th>PITCH_NAME</th>\n",
       "      <th>PLAYER_NAME</th>\n",
       "      <th>BATTER_ID</th>\n",
       "      <th>BAT_SIDE</th>\n",
       "      <th>THROW_SIDE</th>\n",
       "      <th>GAME_YEAR</th>\n",
       "      <th>BALLS</th>\n",
       "      <th>STRIKES</th>\n",
       "      <th>PLATE_X</th>\n",
       "      <th>PLATE_Z</th>\n",
       "      <th>SZ_TOP</th>\n",
       "      <th>SZ_BOT</th>\n",
       "    </tr>\n",
       "  </thead>\n",
       "  <tbody>\n",
       "    <tr>\n",
       "      <th>0</th>\n",
       "      <td>FB</td>\n",
       "      <td>Fastball</td>\n",
       "      <td>FF</td>\n",
       "      <td>4-Seam Fastball</td>\n",
       "      <td>Betts, Mookie</td>\n",
       "      <td>605141</td>\n",
       "      <td>R</td>\n",
       "      <td>R</td>\n",
       "      <td>2021</td>\n",
       "      <td>0</td>\n",
       "      <td>0</td>\n",
       "      <td>0.07</td>\n",
       "      <td>4.16</td>\n",
       "      <td>3.46</td>\n",
       "      <td>1.76</td>\n",
       "    </tr>\n",
       "    <tr>\n",
       "      <th>1</th>\n",
       "      <td>FB</td>\n",
       "      <td>Fastball</td>\n",
       "      <td>FF</td>\n",
       "      <td>4-Seam Fastball</td>\n",
       "      <td>Betts, Mookie</td>\n",
       "      <td>605141</td>\n",
       "      <td>R</td>\n",
       "      <td>R</td>\n",
       "      <td>2021</td>\n",
       "      <td>1</td>\n",
       "      <td>0</td>\n",
       "      <td>0.19</td>\n",
       "      <td>2.60</td>\n",
       "      <td>3.29</td>\n",
       "      <td>1.49</td>\n",
       "    </tr>\n",
       "    <tr>\n",
       "      <th>2</th>\n",
       "      <td>FB</td>\n",
       "      <td>Fastball</td>\n",
       "      <td>FF</td>\n",
       "      <td>4-Seam Fastball</td>\n",
       "      <td>Betts, Mookie</td>\n",
       "      <td>605141</td>\n",
       "      <td>R</td>\n",
       "      <td>R</td>\n",
       "      <td>2021</td>\n",
       "      <td>1</td>\n",
       "      <td>1</td>\n",
       "      <td>-0.61</td>\n",
       "      <td>3.65</td>\n",
       "      <td>3.34</td>\n",
       "      <td>1.64</td>\n",
       "    </tr>\n",
       "    <tr>\n",
       "      <th>3</th>\n",
       "      <td>FB</td>\n",
       "      <td>Fastball</td>\n",
       "      <td>FF</td>\n",
       "      <td>4-Seam Fastball</td>\n",
       "      <td>Betts, Mookie</td>\n",
       "      <td>605141</td>\n",
       "      <td>R</td>\n",
       "      <td>R</td>\n",
       "      <td>2021</td>\n",
       "      <td>2</td>\n",
       "      <td>1</td>\n",
       "      <td>0.52</td>\n",
       "      <td>3.95</td>\n",
       "      <td>3.29</td>\n",
       "      <td>1.58</td>\n",
       "    </tr>\n",
       "    <tr>\n",
       "      <th>4</th>\n",
       "      <td>FB</td>\n",
       "      <td>Fastball</td>\n",
       "      <td>FF</td>\n",
       "      <td>4-Seam Fastball</td>\n",
       "      <td>Betts, Mookie</td>\n",
       "      <td>605141</td>\n",
       "      <td>R</td>\n",
       "      <td>R</td>\n",
       "      <td>2021</td>\n",
       "      <td>3</td>\n",
       "      <td>1</td>\n",
       "      <td>0.07</td>\n",
       "      <td>3.09</td>\n",
       "      <td>3.22</td>\n",
       "      <td>1.55</td>\n",
       "    </tr>\n",
       "  </tbody>\n",
       "</table>\n",
       "</div>"
      ],
      "text/plain": [
       "  PITCH_CLASS PITCH_CLASS_NAME PITCH_TYPE       PITCH_NAME    PLAYER_NAME  \\\n",
       "0          FB         Fastball         FF  4-Seam Fastball  Betts, Mookie   \n",
       "1          FB         Fastball         FF  4-Seam Fastball  Betts, Mookie   \n",
       "2          FB         Fastball         FF  4-Seam Fastball  Betts, Mookie   \n",
       "3          FB         Fastball         FF  4-Seam Fastball  Betts, Mookie   \n",
       "4          FB         Fastball         FF  4-Seam Fastball  Betts, Mookie   \n",
       "\n",
       "   BATTER_ID BAT_SIDE THROW_SIDE  GAME_YEAR  BALLS  STRIKES  PLATE_X  PLATE_Z  \\\n",
       "0     605141        R          R       2021      0        0     0.07     4.16   \n",
       "1     605141        R          R       2021      1        0     0.19     2.60   \n",
       "2     605141        R          R       2021      1        1    -0.61     3.65   \n",
       "3     605141        R          R       2021      2        1     0.52     3.95   \n",
       "4     605141        R          R       2021      3        1     0.07     3.09   \n",
       "\n",
       "   SZ_TOP  SZ_BOT  \n",
       "0    3.46    1.76  \n",
       "1    3.29    1.49  \n",
       "2    3.34    1.64  \n",
       "3    3.29    1.58  \n",
       "4    3.22    1.55  "
      ]
     },
     "execution_count": 19,
     "metadata": {},
     "output_type": "execute_result"
    }
   ],
   "source": [
    "data.head()"
   ]
  }
 ],
 "metadata": {
  "kernelspec": {
   "display_name": "DS6100",
   "language": "python",
   "name": "python3"
  },
  "language_info": {
   "codemirror_mode": {
    "name": "ipython",
    "version": 3
   },
   "file_extension": ".py",
   "mimetype": "text/x-python",
   "name": "python",
   "nbconvert_exporter": "python",
   "pygments_lexer": "ipython3",
   "version": "3.12.2"
  }
 },
 "nbformat": 4,
 "nbformat_minor": 2
}
