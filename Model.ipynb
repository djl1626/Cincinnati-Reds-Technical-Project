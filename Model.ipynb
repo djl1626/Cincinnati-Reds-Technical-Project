{
 "cells": [
  {
   "cell_type": "markdown",
   "metadata": {},
   "source": [
    "## Model Training"
   ]
  },
  {
   "cell_type": "markdown",
   "metadata": {},
   "source": [
    "#### Load Packages"
   ]
  },
  {
   "cell_type": "code",
   "execution_count": 1,
   "metadata": {},
   "outputs": [],
   "source": [
    "import numpy as np\n",
    "import pandas as pd\n",
    "import seaborn as sns\n",
    "from scipy.stats import dirichlet\n",
    "import plotly.express as px"
   ]
  },
  {
   "cell_type": "markdown",
   "metadata": {},
   "source": [
    "#### Load Training Data"
   ]
  },
  {
   "cell_type": "code",
   "execution_count": 2,
   "metadata": {},
   "outputs": [
    {
     "data": {
      "text/html": [
       "<div>\n",
       "<style scoped>\n",
       "    .dataframe tbody tr th:only-of-type {\n",
       "        vertical-align: middle;\n",
       "    }\n",
       "\n",
       "    .dataframe tbody tr th {\n",
       "        vertical-align: top;\n",
       "    }\n",
       "\n",
       "    .dataframe thead th {\n",
       "        text-align: right;\n",
       "    }\n",
       "</style>\n",
       "<table border=\"1\" class=\"dataframe\">\n",
       "  <thead>\n",
       "    <tr style=\"text-align: right;\">\n",
       "      <th></th>\n",
       "      <th>PITCH_CLASS</th>\n",
       "      <th>PITCH_CLASS_NAME</th>\n",
       "      <th>PITCH_TYPE</th>\n",
       "      <th>PITCH_NAME</th>\n",
       "      <th>PLAYER_NAME</th>\n",
       "      <th>BATTER_ID</th>\n",
       "      <th>BAT_SIDE</th>\n",
       "      <th>THROW_SIDE</th>\n",
       "      <th>GAME_YEAR</th>\n",
       "      <th>BALLS</th>\n",
       "      <th>STRIKES</th>\n",
       "      <th>PLATE_X</th>\n",
       "      <th>PLATE_Z</th>\n",
       "    </tr>\n",
       "  </thead>\n",
       "  <tbody>\n",
       "    <tr>\n",
       "      <th>0</th>\n",
       "      <td>FB</td>\n",
       "      <td>Fastball</td>\n",
       "      <td>FF</td>\n",
       "      <td>4-Seam Fastball</td>\n",
       "      <td>Betts, Mookie</td>\n",
       "      <td>605141</td>\n",
       "      <td>R</td>\n",
       "      <td>R</td>\n",
       "      <td>2021</td>\n",
       "      <td>0</td>\n",
       "      <td>0</td>\n",
       "      <td>0.07</td>\n",
       "      <td>4.16</td>\n",
       "    </tr>\n",
       "    <tr>\n",
       "      <th>1</th>\n",
       "      <td>FB</td>\n",
       "      <td>Fastball</td>\n",
       "      <td>FF</td>\n",
       "      <td>4-Seam Fastball</td>\n",
       "      <td>Betts, Mookie</td>\n",
       "      <td>605141</td>\n",
       "      <td>R</td>\n",
       "      <td>R</td>\n",
       "      <td>2021</td>\n",
       "      <td>1</td>\n",
       "      <td>0</td>\n",
       "      <td>0.19</td>\n",
       "      <td>2.60</td>\n",
       "    </tr>\n",
       "    <tr>\n",
       "      <th>2</th>\n",
       "      <td>FB</td>\n",
       "      <td>Fastball</td>\n",
       "      <td>FF</td>\n",
       "      <td>4-Seam Fastball</td>\n",
       "      <td>Betts, Mookie</td>\n",
       "      <td>605141</td>\n",
       "      <td>R</td>\n",
       "      <td>R</td>\n",
       "      <td>2021</td>\n",
       "      <td>1</td>\n",
       "      <td>1</td>\n",
       "      <td>-0.61</td>\n",
       "      <td>3.65</td>\n",
       "    </tr>\n",
       "    <tr>\n",
       "      <th>3</th>\n",
       "      <td>FB</td>\n",
       "      <td>Fastball</td>\n",
       "      <td>FF</td>\n",
       "      <td>4-Seam Fastball</td>\n",
       "      <td>Betts, Mookie</td>\n",
       "      <td>605141</td>\n",
       "      <td>R</td>\n",
       "      <td>R</td>\n",
       "      <td>2021</td>\n",
       "      <td>2</td>\n",
       "      <td>1</td>\n",
       "      <td>0.52</td>\n",
       "      <td>3.95</td>\n",
       "    </tr>\n",
       "    <tr>\n",
       "      <th>4</th>\n",
       "      <td>FB</td>\n",
       "      <td>Fastball</td>\n",
       "      <td>FF</td>\n",
       "      <td>4-Seam Fastball</td>\n",
       "      <td>Betts, Mookie</td>\n",
       "      <td>605141</td>\n",
       "      <td>R</td>\n",
       "      <td>R</td>\n",
       "      <td>2021</td>\n",
       "      <td>3</td>\n",
       "      <td>1</td>\n",
       "      <td>0.07</td>\n",
       "      <td>3.09</td>\n",
       "    </tr>\n",
       "  </tbody>\n",
       "</table>\n",
       "</div>"
      ],
      "text/plain": [
       "  PITCH_CLASS PITCH_CLASS_NAME PITCH_TYPE       PITCH_NAME    PLAYER_NAME  \\\n",
       "0          FB         Fastball         FF  4-Seam Fastball  Betts, Mookie   \n",
       "1          FB         Fastball         FF  4-Seam Fastball  Betts, Mookie   \n",
       "2          FB         Fastball         FF  4-Seam Fastball  Betts, Mookie   \n",
       "3          FB         Fastball         FF  4-Seam Fastball  Betts, Mookie   \n",
       "4          FB         Fastball         FF  4-Seam Fastball  Betts, Mookie   \n",
       "\n",
       "   BATTER_ID BAT_SIDE THROW_SIDE  GAME_YEAR  BALLS  STRIKES  PLATE_X  PLATE_Z  \n",
       "0     605141        R          R       2021      0        0     0.07     4.16  \n",
       "1     605141        R          R       2021      1        0     0.19     2.60  \n",
       "2     605141        R          R       2021      1        1    -0.61     3.65  \n",
       "3     605141        R          R       2021      2        1     0.52     3.95  \n",
       "4     605141        R          R       2021      3        1     0.07     3.09  "
      ]
     },
     "execution_count": 2,
     "metadata": {},
     "output_type": "execute_result"
    }
   ],
   "source": [
    "train_data = pd.read_csv(\"Data/full_training_data.csv\")\n",
    "train_data.head()"
   ]
  },
  {
   "cell_type": "markdown",
   "metadata": {},
   "source": [
    "#### Get Counts Per Hierarchy\n",
    "\n",
    "`prior_pitches_per_year_count` - the prior distribution (vector of alphas) that will be used for a dirichlet prior for every year + count combination\n",
    "\n",
    "`pitch_count_dist_by_player` - the observed proportion of pitches seen for each year + count + player combination\n",
    "\n",
    "`dist_pitches_per_year` - the observed proportion of pitches in each year for every player\n",
    "\n",
    "`dist_count_per_year` - the prior distribution (vector of alphas) that will be used for a dirichlet prior for the proportion of pitches seen in each count for every year\n"
   ]
  },
  {
   "cell_type": "code",
   "execution_count": 3,
   "metadata": {},
   "outputs": [],
   "source": [
    "prior_pitches_per_year_count = train_data.groupby(['GAME_YEAR', 'STRIKES', 'BALLS', 'PITCH_CLASS_NAME']).size().reset_index(name='freq_pitch_class')\n",
    "pitch_count_dist_by_player = train_data.groupby(['GAME_YEAR', 'BATTER_ID', 'BALLS', 'STRIKES']).size().reset_index(name='freq_count_seen')\n",
    "dist_pitches_per_year = train_data.groupby([\"BATTER_ID\", \"GAME_YEAR\"]).size().reset_index(name=\"freq\")\n",
    "dist_count_per_year = train_data.groupby([\"GAME_YEAR\", \"BALLS\", \"STRIKES\"]).size().reset_index(name='freq')"
   ]
  },
  {
   "cell_type": "code",
   "execution_count": 4,
   "metadata": {},
   "outputs": [],
   "source": [
    "prior_scaling_factor = 100\n",
    "pitch_count_dist_by_player['prop_count_seen'] = pitch_count_dist_by_player.groupby(['GAME_YEAR', 'BATTER_ID'])['freq_count_seen'].transform(lambda grp: grp / grp.sum())\n",
    "prior_pitches_per_year_count['prior_pitch_class_count'] = prior_pitches_per_year_count.groupby(['GAME_YEAR', 'STRIKES', 'BALLS'])['freq_pitch_class'].transform(lambda grp: round(grp * prior_scaling_factor / grp.sum()))\n",
    "dist_pitches_per_year['normalized_freq'] = dist_pitches_per_year.groupby(\"BATTER_ID\")[['freq']].transform(lambda grp: grp / sum(grp))\n",
    "dist_count_per_year['normalized_freq'] = dist_count_per_year.groupby([\"GAME_YEAR\"])[['freq']].transform(lambda grp: grp / sum(grp))\n",
    "prior_pitches_per_year_count = prior_pitches_per_year_count.pivot(index=['GAME_YEAR', 'BALLS', 'STRIKES'],\n",
    "                                                                  columns='PITCH_CLASS_NAME',\n",
    "                                                                  values='prior_pitch_class_count').reset_index()\n",
    "prior_pitches_per_year_count = prior_pitches_per_year_count.rename(columns={\n",
    "    'Breaking Ball': 'prior_breaking_ball',\n",
    "    'Fastball': 'prior_fastball',\n",
    "    'Off-speed': 'prior_off-speed'\n",
    "})"
   ]
  },
  {
   "cell_type": "code",
   "execution_count": 5,
   "metadata": {},
   "outputs": [],
   "source": [
    "observed_pitches_per_year_count_player = train_data.groupby(['BATTER_ID', 'GAME_YEAR', 'STRIKES', 'BALLS', 'PITCH_CLASS_NAME']).size().reset_index(name='count_pitch_class')\n",
    "observed_pitches_per_year_count_player = observed_pitches_per_year_count_player.pivot(index=['BATTER_ID', 'GAME_YEAR', 'BALLS', 'STRIKES'],\n",
    "                                                                                      columns='PITCH_CLASS_NAME',\n",
    "                                                                                      values='count_pitch_class').reset_index()\n",
    "observed_pitches_per_year_count_player = observed_pitches_per_year_count_player.rename(columns={\n",
    "    'Breaking Ball': 'obs_breaking_ball',\n",
    "    'Fastball': 'obs_fastball',\n",
    "    'Off-speed': 'obs_off-speed'\n",
    "})\n",
    "observed_pitches_per_year_count_player = observed_pitches_per_year_count_player.fillna(0)"
   ]
  },
  {
   "cell_type": "markdown",
   "metadata": {},
   "source": [
    "Ensure that we have 0 frequencies if a player never saw a pitch in a certain count in a given year"
   ]
  },
  {
   "cell_type": "code",
   "execution_count": 6,
   "metadata": {},
   "outputs": [],
   "source": [
    "years = pd.DataFrame({\"GAME_YEAR\": observed_pitches_per_year_count_player['GAME_YEAR'].unique().tolist()})\n",
    "balls = pd.DataFrame({\"BALLS\": observed_pitches_per_year_count_player['BALLS'].unique().tolist()})\n",
    "strikes = pd.DataFrame({\"STRIKES\": observed_pitches_per_year_count_player['STRIKES'].unique().tolist()})\n",
    "players = pd.DataFrame({\"BATTER_ID\": observed_pitches_per_year_count_player['BATTER_ID'].unique().tolist()})\n",
    "balls_strikes = pd.merge(balls, strikes, how=\"cross\")\n",
    "balls_strikes_years = pd.merge(years, balls_strikes, how=\"cross\")\n",
    "balls_strikes_years_players = pd.merge(balls_strikes_years, players, how=\"cross\")"
   ]
  },
  {
   "cell_type": "code",
   "execution_count": 7,
   "metadata": {},
   "outputs": [],
   "source": [
    "observed_pitches_per_year_count_player = pd.merge(balls_strikes_years_players, observed_pitches_per_year_count_player, how=\"left\", on=[\"GAME_YEAR\", \"BATTER_ID\", \"BALLS\", \"STRIKES\"]).groupby(['BATTER_ID', 'GAME_YEAR']).filter(lambda grp: sum(grp['obs_fastball'].isna()) < 12).fillna(0)"
   ]
  },
  {
   "cell_type": "code",
   "execution_count": 8,
   "metadata": {},
   "outputs": [],
   "source": [
    "prior_observed_merged = pd.merge(observed_pitches_per_year_count_player, prior_pitches_per_year_count, on=['GAME_YEAR', 'BALLS', 'STRIKES'], how='right')\n",
    "posterior_year_count = prior_observed_merged[['BATTER_ID', 'GAME_YEAR', 'BALLS', 'STRIKES']].copy()\n",
    "posterior_year_count.loc[:, 'posterior_fastball'] = prior_observed_merged['obs_fastball'] + prior_observed_merged['prior_fastball']\n",
    "posterior_year_count.loc[:, 'posterior_breaking_ball'] = prior_observed_merged['obs_breaking_ball'] + prior_observed_merged['prior_breaking_ball']\n",
    "posterior_year_count.loc[:, 'posterior_off-speed'] = prior_observed_merged['obs_off-speed'] + prior_observed_merged['prior_off-speed']"
   ]
  },
  {
   "cell_type": "code",
   "execution_count": 9,
   "metadata": {},
   "outputs": [],
   "source": [
    "pitch_count_dist_by_player['batting_count'] = pitch_count_dist_by_player['BALLS'].astype(str) + \"-\" + pitch_count_dist_by_player['STRIKES'].astype(str)"
   ]
  },
  {
   "cell_type": "code",
   "execution_count": 10,
   "metadata": {},
   "outputs": [],
   "source": [
    "pitch_count_dist_by_player = pitch_count_dist_by_player.pivot(index=[\"BATTER_ID\", \"GAME_YEAR\"],\n",
    "                                                              columns=\"batting_count\",\n",
    "                                                              values=\"freq_count_seen\").reset_index().fillna(0)"
   ]
  },
  {
   "cell_type": "code",
   "execution_count": 11,
   "metadata": {},
   "outputs": [],
   "source": [
    "alphas_pitch_count = pitch_count_dist_by_player.groupby([\"GAME_YEAR\", \"BATTER_ID\"]).apply(lambda grp: grp[[col for col in grp.columns if col.__contains__('-')]].to_numpy(), include_groups=False)"
   ]
  },
  {
   "cell_type": "code",
   "execution_count": 12,
   "metadata": {},
   "outputs": [],
   "source": [
    "np.random.seed(2024)\n",
    "bootstrapped_posterior = pd.DataFrame({'BATTER_ID': [], 'GAME_YEAR': [], 'fastball_pct': [], 'breaking_ball_pct': [], 'offspeed_pct': []})\n",
    "for index in alphas_pitch_count.index:\n",
    "    year = index[0]\n",
    "    player = index[1]\n",
    "    prior_alphas = (dist_count_per_year.query(\"GAME_YEAR == @year\")['normalized_freq'].to_numpy() * 100).round()\n",
    "    posterior_count_alphas = prior_alphas + alphas_pitch_count[index]\n",
    "    posterior_pitch_class = posterior_year_count.query(\"GAME_YEAR == @year & BATTER_ID == @player\")[[col for col in posterior_year_count if col.__contains__(\"posterior\")]].to_numpy()\n",
    "    sample_batters_counts = dirichlet.rvs(posterior_count_alphas.flatten(), 1000)\n",
    "    sample_pitch_class_given_count = np.apply_along_axis(lambda row: dirichlet.rvs(row, 1000), 1, posterior_pitch_class)\n",
    "    final = np.zeros([1000, 3])\n",
    "    if sample_batters_counts.shape[1] != 12 or sample_pitch_class_given_count.shape[0] != 12:\n",
    "        print(index)\n",
    "        print(sample_batters_counts.shape)\n",
    "        print(sample_pitch_class_given_count.shape)\n",
    "    for i in range(0, 12):\n",
    "        final += sample_batters_counts.T[i, :][:, np.newaxis] * sample_pitch_class_given_count[i, :]\n",
    "    final_df = pd.DataFrame(final).rename(columns={0: \"fastball_pct\", 1:'breaking_ball_pct', 2:'offspeed_pct'})\n",
    "    final_df['BATTER_ID'] = player\n",
    "    final_df['GAME_YEAR'] = year\n",
    "    bootstrapped_posterior = pd.concat([bootstrapped_posterior, final_df], axis=0)"
   ]
  },
  {
   "cell_type": "markdown",
   "metadata": {},
   "source": [
    "Multiply each value from the bootstrapped distributions of pitch type by the proportion of pitches that a player saw for that year. Then sum all the values for a player corresponding to the index of the group. That is, sum the first row of the 2021 bootstrapped distribution for a player with the first row from the 2022 and 2023 bootstrapped distributions. We can do this because the bootstrapped distributions are approximately normal, and the sum of scaled normal random variables results in a normal distribution."
   ]
  },
  {
   "cell_type": "code",
   "execution_count": 13,
   "metadata": {},
   "outputs": [],
   "source": [
    "bootstrapped_posterior_merged = pd.merge(bootstrapped_posterior, dist_pitches_per_year.drop(columns='freq'), on=['BATTER_ID', 'GAME_YEAR'])\n",
    "bootstrapped_posterior_combined = bootstrapped_posterior_merged.copy()\n",
    "bootstrapped_posterior_combined.loc[:, 'fastball_pct'] = (bootstrapped_posterior_combined['fastball_pct'] * bootstrapped_posterior_combined['normalized_freq'])\n",
    "bootstrapped_posterior_combined.loc[:, 'breaking_ball_pct'] = (bootstrapped_posterior_combined['breaking_ball_pct'] * bootstrapped_posterior_combined['normalized_freq'])\n",
    "bootstrapped_posterior_combined.loc[:, 'offspeed_pct'] = (bootstrapped_posterior_combined['offspeed_pct'] * bootstrapped_posterior_combined['normalized_freq'])\n",
    "bootstrapped_posterior_combined['row_index_in_group'] = bootstrapped_posterior_combined.groupby([\"BATTER_ID\", \"GAME_YEAR\"]).cumcount()\n",
    "bootstrapped_posterior_combined = bootstrapped_posterior_combined.groupby([\"BATTER_ID\", \"row_index_in_group\"])[['fastball_pct', 'breaking_ball_pct', 'offspeed_pct']].sum().reset_index().drop(columns='row_index_in_group')"
   ]
  },
  {
   "cell_type": "markdown",
   "metadata": {},
   "source": [
    "Get the mean and standard-deviation for each batter's combined boostrap distribution. The means are our prediction values for the proportion of each pitch type that a batter will see in 2024"
   ]
  },
  {
   "cell_type": "code",
   "execution_count": 39,
   "metadata": {},
   "outputs": [],
   "source": [
    "bootstrapped_posterior_summarized = bootstrapped_posterior_combined.groupby(['BATTER_ID']).agg({'fastball_pct': ['mean', 'std'],\n",
    "                                                                                                    'breaking_ball_pct': ['mean', 'std'],\n",
    "                                                                                                    'offspeed_pct': ['mean', 'std']}).reset_index()\n",
    "bootstrapped_posterior_summarized.columns = ['BATTER_ID', 'mean_fastball', 'sd_fastball', 'mean_breaking_ball', 'sd_breaking_ball', 'mean_offspeed', 'sd_offspeed']\n",
    "bootstrapped_posterior_summarized['BATTER_ID'] = bootstrapped_posterior_summarized['BATTER_ID'].astype(int)"
   ]
  },
  {
   "cell_type": "markdown",
   "metadata": {},
   "source": [
    "Write the predictions to the predictions .csv"
   ]
  },
  {
   "cell_type": "code",
   "execution_count": 40,
   "metadata": {},
   "outputs": [],
   "source": [
    "predictions = pd.read_csv(\"Data/predictions.csv\")"
   ]
  },
  {
   "cell_type": "code",
   "execution_count": 41,
   "metadata": {},
   "outputs": [],
   "source": [
    "predictions = pd.merge(predictions, bootstrapped_posterior_summarized, on='BATTER_ID')[['BATTER_ID', 'PLAYER_NAME', 'GAME_YEAR'] + [col for col in bootstrapped_posterior_summarized.columns if col.__contains__(\"mean\")]]\n",
    "predictions = predictions.rename(columns={'mean_fastball': 'PITCH_TYPE_FB',\n",
    "                                          'mean_breaking_ball': 'PITCH_TYPE_BB', \n",
    "                                          'mean_offspeed': 'PITCH_TYPE_OS'})\n",
    "predictions.to_csv(\"Data/predictions.csv\", index=False)"
   ]
  },
  {
   "cell_type": "markdown",
   "metadata": {},
   "source": [
    "Also write the predictions with their uncertainty (standard-deviation)."
   ]
  },
  {
   "cell_type": "code",
   "execution_count": 42,
   "metadata": {},
   "outputs": [],
   "source": [
    "bootstrapped_posterior_summarized.to_csv(\"Data/predictions_with_std.csv\", index=False)"
   ]
  },
  {
   "cell_type": "markdown",
   "metadata": {},
   "source": [
    "Replicate bootstrapping for each player + count combination. This will be used for the interactive dashboard"
   ]
  },
  {
   "cell_type": "code",
   "execution_count": 29,
   "metadata": {},
   "outputs": [],
   "source": [
    "np.random.seed(2024)\n",
    "dataframes = []\n",
    "bootstrapped_posterior_by_count = pd.DataFrame({'BATTER_ID': [], 'BALLS': [], 'STRIKES': [], 'GAME_YEAR': [], 'fastball_pct': [], 'breaking_ball_pct': [], 'offspeed_pct': []})\n",
    "for index, row in posterior_year_count.iterrows():\n",
    "    sample = dirichlet.rvs([row['posterior_fastball'], row['posterior_breaking_ball'], row['posterior_off-speed']], 1000)\n",
    "    final_df = pd.DataFrame(sample).rename(columns={0: \"fastball_pct\", 1:'breaking_ball_pct', 2:'offspeed_pct'})\n",
    "    final_df['BATTER_ID'] = row['BATTER_ID']\n",
    "    final_df['GAME_YEAR'] = row['GAME_YEAR']\n",
    "    final_df['BALLS'] = row['BALLS']\n",
    "    final_df['STRIKES'] = row['STRIKES']\n",
    "    dataframes.append(final_df)\n",
    "bootstrapped_posterior_by_count = pd.concat(dataframes, axis=0)"
   ]
  },
  {
   "cell_type": "code",
   "execution_count": 34,
   "metadata": {},
   "outputs": [],
   "source": [
    "bootstrapped_posterior_by_count_merged = pd.merge(bootstrapped_posterior_by_count, dist_pitches_per_year.drop(columns='freq'), on=['BATTER_ID', 'GAME_YEAR'])\n",
    "bootstrapped_posterior_by_count_combined = bootstrapped_posterior_by_count_merged.copy()\n",
    "bootstrapped_posterior_by_count_combined.loc[:, 'fastball_pct'] = (bootstrapped_posterior_by_count_combined['fastball_pct'] * bootstrapped_posterior_by_count_combined['normalized_freq'])\n",
    "bootstrapped_posterior_by_count_combined.loc[:, 'breaking_ball_pct'] = (bootstrapped_posterior_by_count_combined['breaking_ball_pct'] * bootstrapped_posterior_by_count_combined['normalized_freq'])\n",
    "bootstrapped_posterior_by_count_combined.loc[:, 'offspeed_pct'] = (bootstrapped_posterior_by_count_combined['offspeed_pct'] * bootstrapped_posterior_by_count_combined['normalized_freq'])\n",
    "bootstrapped_posterior_by_count_combined['row_index_in_group'] = bootstrapped_posterior_by_count_combined.groupby([\"BATTER_ID\", \"GAME_YEAR\", \"BALLS\", \"STRIKES\"]).cumcount()\n",
    "bootstrapped_posterior_by_count_combined = bootstrapped_posterior_by_count_combined.groupby([\"BATTER_ID\", \"BALLS\", \"STRIKES\", \"row_index_in_group\"])[['fastball_pct', 'breaking_ball_pct', 'offspeed_pct']].sum().reset_index().drop(columns='row_index_in_group')"
   ]
  },
  {
   "cell_type": "code",
   "execution_count": 61,
   "metadata": {},
   "outputs": [],
   "source": [
    "bootstrapped_posterior_by_count_summarized = bootstrapped_posterior_by_count_combined.groupby(['BATTER_ID', 'BALLS', 'STRIKES']).agg({'fastball_pct': ['mean', 'std'],\n",
    "                                                                                                    'breaking_ball_pct': ['mean', 'std'],\n",
    "                                                                                                    'offspeed_pct': ['mean', 'std']}).reset_index()\n",
    "bootstrapped_posterior_by_count_summarized.columns = ['BATTER_ID', 'BALLS', 'STRIKES', 'mean_fastball', 'sd_fastball', 'mean_breaking_ball', 'sd_breaking_ball', 'mean_offspeed', 'sd_offspeed']\n",
    "bootstrapped_posterior_by_count_summarized['BATTER_ID'] = bootstrapped_posterior_by_count_summarized['BATTER_ID'].astype(int)"
   ]
  },
  {
   "cell_type": "code",
   "execution_count": 62,
   "metadata": {},
   "outputs": [],
   "source": [
    "bootstrapped_posterior_by_count_summarized = pd.merge(predictions[['BATTER_ID', 'PLAYER_NAME']], bootstrapped_posterior_by_count_summarized, on='BATTER_ID')[['BATTER_ID','PLAYER_NAME','BALLS','STRIKES','mean_fastball','sd_fastball','mean_breaking_ball','sd_breaking_ball','mean_offspeed','sd_offspeed']]\n",
    "bootstrapped_posterior_by_count_summarized.to_csv(\"Data/predictions_by_count.csv\", index=False)"
   ]
  }
 ],
 "metadata": {
  "kernelspec": {
   "display_name": "DS6100",
   "language": "python",
   "name": "python3"
  },
  "language_info": {
   "codemirror_mode": {
    "name": "ipython",
    "version": 3
   },
   "file_extension": ".py",
   "mimetype": "text/x-python",
   "name": "python",
   "nbconvert_exporter": "python",
   "pygments_lexer": "ipython3",
   "version": "3.12.2"
  }
 },
 "nbformat": 4,
 "nbformat_minor": 2
}
